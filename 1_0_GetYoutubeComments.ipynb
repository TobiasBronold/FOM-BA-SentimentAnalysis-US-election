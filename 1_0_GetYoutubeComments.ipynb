{
 "cells": [
  {
   "cell_type": "markdown",
   "metadata": {},
   "source": [
    "# GetYoutubeComments\n",
    "\n",
    "This code performs the extraction and processing of YouTube comments using the *YouTube API*. First, the video IDs for different election cycles are defined. Then the YouTube Data API v3 is used to retrieve comments and the extracted data is stored in a csv for each election cycle.\n",
    "\n",
    "*Important: An API key is required to execute the code (see .env.example)*"
   ]
  },
  {
   "cell_type": "markdown",
   "metadata": {},
   "source": [
    "# Imports, API and Videos"
   ]
  },
  {
   "cell_type": "code",
   "execution_count": 1,
   "metadata": {},
   "outputs": [],
   "source": [
    "# Import Modules\n",
    "import googleapiclient.discovery\n",
    "import pandas as pd\n",
    "import csv\n",
    "import os\n",
    "from dotenv import load_dotenv"
   ]
  },
  {
   "cell_type": "code",
   "execution_count": 2,
   "metadata": {},
   "outputs": [],
   "source": [
    "# API Credentials\n",
    "api_service_name = 'youtube'\n",
    "api_version = 'v3'\n",
    "\n",
    "# Load environment variables\n",
    "load_dotenv()\n",
    "DEVELOPER_KEY = os.getenv('DEVELOPER_KEY')\n",
    "\n",
    "# YouTube API client initalisieren\n",
    "youtube = googleapiclient.discovery.build(api_service_name, api_version, developerKey=DEVELOPER_KEY)\n"
   ]
  },
  {
   "cell_type": "code",
   "execution_count": 3,
   "metadata": {},
   "outputs": [],
   "source": [
    "# Video for testing purposes\n",
    "video_test = ['u7JMhVI7taQ']"
   ]
  },
  {
   "cell_type": "code",
   "execution_count": 4,
   "metadata": {},
   "outputs": [],
   "source": [
    "# List per year with all videos that meet the defined criteria.\n",
    "\n",
    "# videos_2016 = ['SHG0ezLiVGc', '-nQGBZQrtT0','qVMW_1aZXRk','--IS0XiNdpk','-rSDUsMwakI','Qg0pO9VG1J8','BG-_ZDrypec','0SLfCkXDAf8','iXZLnhHhW8A','WLYHu0AG8GI','s7gDXtRS0jo','RXMp9fBomJw','TlqKFlU7YAs','UiWY0iRLV94','9mYVi7WHyiU','nRp1CK_X_Yw','Qsvy10D5rtc','bEskg0Z-NAQ','pfmwGAd1L-o','_tOhUmNpTJE','-TTiDlK4vS8','Pe52Tpjo3AE','pjS6OdY2dBQ', 'e788fOzSSek','9Z4lQ4k_BQ8','khK9fIgoNjQ','KJ1FLhcMDMM','-sslP9LInEM']\n",
    "# videos_2020 = ['Wsije1KetVw','aj7ELbw8FxM','Oj9GpZB9cuc','bPiofmZGb8o','wW1lY5jFNcQ','xI_lxFv203I','LyC855KdBKo','UCA1A5GqCdQ','ozGr4IsTUng','yGPfKkjDIts','cMz_sTgoydQ','moOxq_8l_34','7Icu6qupf40','ajavsMbCapY','5cathmZFeXs','K8Z9Kqhrh5c','un9x-DjTMT0','P69xdkqBJno','CUJhtZZWZZI','-ZDZtBRTyeI','idPv9zAkL48','U4nBnuv9n9o','AytDzZ2ecCc','c2ScxGsB-ks','Wbj5sDWluEA','xH9Cq3d67fc','7ovJyMwGbb8','UXR_bqyAy4E','CPYFiaL6cTE','mreNn_2-QJ8','KdJ8SDOFrdw']\n",
    "# videos_2024 = ['g34CFjEFZts','b607aDHUu2I','LS8amqeDbS8','cJKtmTNf8qU','XLiagIdA84c','WI9fbbQ-aTo','oV4sdCSB6ME','5JxELubSgJg','LIV9HM5Yj80','e-1pJkuFTpA','RMprlMfsHAU','eFCiva4m3Zk','uT9s4BXcv6w','qqG96G8YdcE','gK6MD_8S01o','SGRydccYp0c','fmZJ7lhroA8','m1YwZfgJW0s','mrUAHQkLKtY','3SJr44m-w1Y','-v-8wJkmwBY','VgsC_aBquUE','kRh6598RmHM']\n",
    "\n",
    "# Shorten to one video per year for testing\n",
    "videos_2016 = ['SHG0ezLiVGc']\n",
    "videos_2020 = ['Wsije1KetVw']\n",
    "videos_2024 = ['g34CFjEFZts']"
   ]
  },
  {
   "cell_type": "markdown",
   "metadata": {},
   "source": [
    "# Configuration of YouTube Data API\n",
    "The functions (check_commets) checks whether the comments for a video are publicly available. The second function (get_comments_by_video_id) retrieves all comments including replies for the passed list of videos. The third function (get_video_details_by_ids) retrieves the metadata for the transferred videos."
   ]
  },
  {
   "cell_type": "code",
   "execution_count": 5,
   "metadata": {},
   "outputs": [],
   "source": [
    "# Check if comments are available for the given video IDs\n",
    "def check_comments(video_ids):\n",
    "   \n",
    "    # List for storing video IDs with and without comments\n",
    "    videos_with_comments = []\n",
    "    videos_without_comments = []\n",
    "\n",
    "    for video_id in video_ids:\n",
    "        request = youtube.commentThreads().list(\n",
    "            part='id',\n",
    "            videoId=video_id,\n",
    "            maxResults=1  # Only one result is needed to check if comments are available\n",
    "        )\n",
    "        \n",
    "        try:\n",
    "            response = request.execute()\n",
    "\n",
    "            # Check if comments are available\n",
    "            if 'items' in response and len(response['items']) > 0:\n",
    "                videos_with_comments.append(video_id)\n",
    "            else:\n",
    "                videos_without_comments.append(video_id)\n",
    "        except Exception as e:\n",
    "            # If an error occurs, it may be that comments are disabled\n",
    "            if 'disabled comments' in str(e) or 'comments are turned off' in str(e):\n",
    "                videos_without_comments.append(video_id)\n",
    "            else:\n",
    "                print(f'Error with video ID {video_id}: {e}')\n",
    "\n",
    "    return videos_with_comments, videos_without_comments"
   ]
  },
  {
   "cell_type": "code",
   "execution_count": 6,
   "metadata": {},
   "outputs": [],
   "source": [
    "# Function to retrieve comments and replies for a list of video IDs\n",
    "\n",
    "def get_comments_by_video_id(video_ids, DEVELOPER_KEY):\n",
    "    results = []\n",
    "    total_videos = len(video_ids)\n",
    "    youtube = googleapiclient.discovery.build('youtube', 'v3', developerKey=DEVELOPER_KEY)\n",
    "\n",
    "    for idx, video_id in enumerate(video_ids, start=1):\n",
    "        print(f'Video {idx}/{total_videos} - ID: {video_id}')\n",
    "\n",
    "        try:\n",
    "            request = youtube.commentThreads().list(\n",
    "                part='snippet,replies',\n",
    "                videoId=video_id,\n",
    "                maxResults=100\n",
    "            )\n",
    "\n",
    "            while request:\n",
    "                response = request.execute()\n",
    "\n",
    "                for item in response.get('items', []):\n",
    "                    # Vater Kommentar\n",
    "                    parent_comment = item['snippet']['topLevelComment']['snippet']\n",
    "                    parent_comment_id = item['snippet']['topLevelComment']['id']\n",
    "\n",
    "                    results.append({\n",
    "                        'comment_ID': parent_comment_id,\n",
    "                        'parent_ID': None,\n",
    "                        'video_ID': video_id,\n",
    "                        'author': parent_comment.get('authorDisplayName'),\n",
    "                        'text': parent_comment.get('textDisplay'),\n",
    "                        'like_count': parent_comment.get('likeCount'),\n",
    "                        'published_At': parent_comment.get('publishedAt')\n",
    "                    })\n",
    "\n",
    "                    # Antworten des Vaterkommentars prüfen\n",
    "                    if 'replies' in item:\n",
    "                        for reply in item['replies']['comments']:\n",
    "                            results.append({\n",
    "                                'comment_ID': reply['id'],\n",
    "                                'parent_ID': parent_comment_id,\n",
    "                                'video_ID': video_id,\n",
    "                                'author': reply['snippet'].get('authorDisplayName'),\n",
    "                                'text': reply['snippet'].get('textDisplay'),\n",
    "                                'like_count': reply['snippet'].get('likeCount'),\n",
    "                                'published_At': reply['snippet'].get('publishedAt')\n",
    "                            })\n",
    "\n",
    "                # Nächste Seite\n",
    "                request = youtube.commentThreads().list_next(request, response)\n",
    "\n",
    "        except googleapiclient.errors.HttpError as e:\n",
    "            print(f'Fehler bei Video ID {video_id}: {e}')\n",
    "            continue\n",
    "\n",
    "    df = pd.DataFrame(results)\n",
    "    return df"
   ]
  },
  {
   "cell_type": "code",
   "execution_count": 7,
   "metadata": {},
   "outputs": [],
   "source": [
    "# Function to retrieve video details by video IDs\n",
    "def get_video_details_by_video_ids(video_ids, DEVELOPER_KEY):\n",
    "    youtube = googleapiclient.discovery.build('youtube', 'v3', developerKey=DEVELOPER_KEY)\n",
    "    \n",
    "    results = []\n",
    "\n",
    "    for video_id in video_ids:\n",
    "        request = youtube.videos().list(\n",
    "            part='snippet,statistics',\n",
    "            id=video_id\n",
    "        )\n",
    "        response = request.execute()\n",
    "\n",
    "        # Überprüfe, ob das Video gefunden wurde\n",
    "        if 'items' in response and len(response['items']) > 0:\n",
    "            video_title = response['items'][0]['snippet']['title']\n",
    "            channel_id = response['items'][0]['snippet']['channelId']\n",
    "            channel_title = response['items'][0]['snippet']['channelTitle']\n",
    "            view_count = response['items'][0]['statistics'].get('viewCount', 0)\n",
    "            comment_count = response['items'][0]['statistics'].get('commentCount', 0)\n",
    "            published_at = response['items'][0]['snippet']['publishedAt']  \n",
    "\n",
    "            # Speichere die Ergebnisse in der Liste\n",
    "            results.append({\n",
    "                'video_Name': video_title,\n",
    "                'video_ID': video_id,\n",
    "                'publisher': channel_title,\n",
    "                'view_Count': view_count,\n",
    "                'comment_Count': comment_count,\n",
    "                'published_at': published_at \n",
    "            })\n",
    "        else: # Falls ein Video nicht gefunden wird\n",
    "            results.append({\n",
    "                'video_Name': 'Not Found',\n",
    "                'video_ID': video_id,\n",
    "                'publisher': 'N/A',\n",
    "                'view_Count': 'N/A',\n",
    "                'comment_Count': 'N/A',\n",
    "                'published_at': 'N/A'\n",
    "            })\n",
    "            \n",
    "    df = pd.DataFrame(results)\n",
    "    return df"
   ]
  },
  {
   "cell_type": "markdown",
   "metadata": {},
   "source": [
    "# Get YouTube Comments and Video Details for the diffrent videos in predefined list\n",
    "The comments are read out with the previously defined functions (first test, then the three selection cycles) and finally saved in individual csv files"
   ]
  },
  {
   "cell_type": "markdown",
   "metadata": {},
   "source": [
    "### Testing with just one Video"
   ]
  },
  {
   "cell_type": "code",
   "execution_count": 8,
   "metadata": {},
   "outputs": [
    {
     "name": "stdout",
     "output_type": "stream",
     "text": [
      "Videos with public comments: ['u7JMhVI7taQ']\n",
      "Videos with disabled comments: []\n"
     ]
    }
   ],
   "source": [
    "video_test_with_comments, video_test_without_comments = check_comments(video_test)\n",
    "\n",
    "print('Videos with public comments:', video_test_with_comments)\n",
    "print('Videos with disabled comments:', video_test_without_comments)"
   ]
  },
  {
   "cell_type": "code",
   "execution_count": 9,
   "metadata": {},
   "outputs": [
    {
     "name": "stdout",
     "output_type": "stream",
     "text": [
      "Video 1/1 - ID: u7JMhVI7taQ\n"
     ]
    }
   ],
   "source": [
    "df_test = pd.DataFrame(get_comments_by_video_id(video_test_with_comments, DEVELOPER_KEY))\n",
    "df_test_videos = pd.DataFrame(get_video_details_by_video_ids(video_test_with_comments,DEVELOPER_KEY))"
   ]
  },
  {
   "cell_type": "code",
   "execution_count": 10,
   "metadata": {},
   "outputs": [],
   "source": [
    "# Ersetze Zeilenumbrüche im Text durch ein Platzhalterzeichen, um sie zu verhindern\n",
    "df_test['text'] = df_test['text'].apply(lambda x: x.replace('\\n', ' ').replace('\\r', ' '))\n",
    "df_test['custom_index'] = range(1, len(df_test) + 1)"
   ]
  },
  {
   "cell_type": "code",
   "execution_count": 11,
   "metadata": {},
   "outputs": [],
   "source": [
    "df_test.to_csv('Export_csv/test_comments.csv', encoding='utf-8', quoting=csv.QUOTE_ALL, index=False, columns=['custom_index', 'comment_ID', 'parent_ID', 'video_ID', 'author', 'text', 'like_count', 'published_At'])\n",
    "df_test_videos.to_csv('Export_csv/test_videos.csv', encoding='utf-8', quoting=csv.QUOTE_ALL)"
   ]
  },
  {
   "cell_type": "markdown",
   "metadata": {},
   "source": [
    "## 2016"
   ]
  },
  {
   "cell_type": "code",
   "execution_count": 12,
   "metadata": {},
   "outputs": [
    {
     "name": "stdout",
     "output_type": "stream",
     "text": [
      "Videos with public comments: ['SHG0ezLiVGc']\n",
      "Videos with disabled comments: []\n"
     ]
    }
   ],
   "source": [
    "videos_with_comments_2016, videos_without_comments_2016 = check_comments(videos_2016)\n",
    "\n",
    "print('Videos with public comments:', videos_with_comments_2016)\n",
    "print('Videos with disabled comments:', videos_without_comments_2016)"
   ]
  },
  {
   "cell_type": "code",
   "execution_count": 13,
   "metadata": {},
   "outputs": [
    {
     "name": "stdout",
     "output_type": "stream",
     "text": [
      "Video 1/1 - ID: SHG0ezLiVGc\n",
      "<class 'pandas.core.frame.DataFrame'>\n",
      "RangeIndex: 2825 entries, 0 to 2824\n",
      "Data columns (total 7 columns):\n",
      " #   Column        Non-Null Count  Dtype \n",
      "---  ------        --------------  ----- \n",
      " 0   comment_ID    2825 non-null   object\n",
      " 1   parent_ID     425 non-null    object\n",
      " 2   video_ID      2825 non-null   object\n",
      " 3   author        2825 non-null   object\n",
      " 4   text          2825 non-null   object\n",
      " 5   like_count    2825 non-null   int64 \n",
      " 6   published_At  2825 non-null   object\n",
      "dtypes: int64(1), object(6)\n",
      "memory usage: 154.6+ KB\n"
     ]
    }
   ],
   "source": [
    "# 2016 Comments \n",
    "df_2016_comments = pd.DataFrame(get_comments_by_video_id(videos_with_comments_2016, DEVELOPER_KEY))\n",
    "df_2016_comments.info()\n",
    "# 2016 videos\n",
    "df_2016_videos = pd.DataFrame(get_video_details_by_video_ids(videos_with_comments_2016,DEVELOPER_KEY))"
   ]
  },
  {
   "cell_type": "code",
   "execution_count": 14,
   "metadata": {},
   "outputs": [],
   "source": [
    "# Ersetze Zeilenumbrüche im Text durch ein Platzhalterzeichen, um sie zu verhindern\n",
    "df_2016_comments['text'] = df_2016_comments['text'].apply(lambda x: x.replace('\\n', ' ').replace('\\r', ' '))\n",
    "df_2016_comments['custom_index'] = range(1, len(df_2016_comments) + 1)"
   ]
  },
  {
   "cell_type": "code",
   "execution_count": 15,
   "metadata": {},
   "outputs": [],
   "source": [
    "df_2016_comments.to_csv('Export_csv/YouTube_Exporte/export_comments_2016.csv', encoding='utf-8', quoting=csv.QUOTE_ALL, index=False, columns=['custom_index', 'comment_ID', 'parent_ID', 'video_ID', 'author', 'text', 'like_count', 'published_At'])\n",
    "df_2016_videos.to_csv('Export_csv/YouTube_Exporte/export_videos_2016.csv', encoding='utf-8', quoting=csv.QUOTE_ALL)"
   ]
  },
  {
   "cell_type": "markdown",
   "metadata": {},
   "source": [
    "## 2020 "
   ]
  },
  {
   "cell_type": "code",
   "execution_count": 16,
   "metadata": {},
   "outputs": [
    {
     "name": "stdout",
     "output_type": "stream",
     "text": [
      "Videos with public comments: ['Wsije1KetVw']\n",
      "Videos with disabled comments: []\n"
     ]
    }
   ],
   "source": [
    "videos_with_comments_2020, videos_without_comments_2020 = check_comments(videos_2020)\n",
    "\n",
    "print('Videos with public comments:', videos_with_comments_2020)\n",
    "print('Videos with disabled comments:', videos_without_comments_2020)"
   ]
  },
  {
   "cell_type": "code",
   "execution_count": 17,
   "metadata": {},
   "outputs": [
    {
     "name": "stdout",
     "output_type": "stream",
     "text": [
      "Video 1/1 - ID: Wsije1KetVw\n",
      "<class 'pandas.core.frame.DataFrame'>\n",
      "RangeIndex: 53648 entries, 0 to 53647\n",
      "Data columns (total 7 columns):\n",
      " #   Column        Non-Null Count  Dtype \n",
      "---  ------        --------------  ----- \n",
      " 0   comment_ID    53648 non-null  object\n",
      " 1   parent_ID     12082 non-null  object\n",
      " 2   video_ID      53648 non-null  object\n",
      " 3   author        53648 non-null  object\n",
      " 4   text          53648 non-null  object\n",
      " 5   like_count    53648 non-null  int64 \n",
      " 6   published_At  53648 non-null  object\n",
      "dtypes: int64(1), object(6)\n",
      "memory usage: 2.9+ MB\n"
     ]
    }
   ],
   "source": [
    "# 2020 Comments \n",
    "df_2020_comments = pd.DataFrame(get_comments_by_video_id(videos_with_comments_2020, DEVELOPER_KEY))\n",
    "df_2020_comments.info()\n",
    "\n",
    "# 2020 videos\n",
    "df_2020_videos = pd.DataFrame(get_video_details_by_video_ids(videos_with_comments_2020,DEVELOPER_KEY))"
   ]
  },
  {
   "cell_type": "code",
   "execution_count": 18,
   "metadata": {},
   "outputs": [],
   "source": [
    "# Ersetze Zeilenumbrüche im Text durch ein Platzhalterzeichen, um sie zu verhindern\n",
    "df_2020_comments['text'] = df_2020_comments['text'].apply(lambda x: x.replace('\\n', ' ').replace('\\r', ' '))\n",
    "df_2020_comments['custom_index'] = range(1, len(df_2020_comments) + 1)"
   ]
  },
  {
   "cell_type": "code",
   "execution_count": 19,
   "metadata": {},
   "outputs": [],
   "source": [
    "df_2020_comments.to_csv('Export_csv/YouTube_Exporte/export_comments_2020.csv', encoding='utf-8', quoting=csv.QUOTE_ALL, index=False, columns=['custom_index', 'comment_ID', 'parent_ID', 'video_ID', 'author', 'text', 'like_count', 'published_At'])\n",
    "df_2020_videos.to_csv('Export_csv/YouTube_Exporte/export_videos_2020.csv', encoding='utf-8', quoting=csv.QUOTE_ALL)"
   ]
  },
  {
   "cell_type": "markdown",
   "metadata": {},
   "source": [
    "## 2024"
   ]
  },
  {
   "cell_type": "code",
   "execution_count": 20,
   "metadata": {},
   "outputs": [
    {
     "name": "stdout",
     "output_type": "stream",
     "text": [
      "Videos with public comments: ['g34CFjEFZts']\n",
      "Videos with disabled comments: []\n"
     ]
    }
   ],
   "source": [
    "videos_with_comments_2024, videos_without_comments_2024 = check_comments(videos_2024)\n",
    "\n",
    "print('Videos with public comments:', videos_with_comments_2024)\n",
    "print('Videos with disabled comments:', videos_without_comments_2024)"
   ]
  },
  {
   "cell_type": "code",
   "execution_count": 21,
   "metadata": {},
   "outputs": [
    {
     "name": "stdout",
     "output_type": "stream",
     "text": [
      "Video 1/1 - ID: g34CFjEFZts\n",
      "<class 'pandas.core.frame.DataFrame'>\n",
      "RangeIndex: 5657 entries, 0 to 5656\n",
      "Data columns (total 7 columns):\n",
      " #   Column        Non-Null Count  Dtype \n",
      "---  ------        --------------  ----- \n",
      " 0   comment_ID    5657 non-null   object\n",
      " 1   parent_ID     1573 non-null   object\n",
      " 2   video_ID      5657 non-null   object\n",
      " 3   author        5657 non-null   object\n",
      " 4   text          5657 non-null   object\n",
      " 5   like_count    5657 non-null   int64 \n",
      " 6   published_At  5657 non-null   object\n",
      "dtypes: int64(1), object(6)\n",
      "memory usage: 309.5+ KB\n"
     ]
    }
   ],
   "source": [
    "# 2024 Comments \n",
    "df_2024_comments = pd.DataFrame(get_comments_by_video_id(videos_with_comments_2024, DEVELOPER_KEY))\n",
    "df_2024_comments.info()\n",
    "\n",
    "# 2024 videos\n",
    "df_2024_videos = pd.DataFrame(get_video_details_by_video_ids(videos_with_comments_2024,DEVELOPER_KEY))"
   ]
  },
  {
   "cell_type": "code",
   "execution_count": 22,
   "metadata": {},
   "outputs": [],
   "source": [
    "# Ersetze Zeilenumbrüche im Text durch ein Platzhalterzeichen, um sie zu verhindern\n",
    "df_2024_comments['text'] = df_2024_comments['text'].apply(lambda x: x.replace('\\n', ' ').replace('\\r', ' '))\n",
    "df_2024_comments['custom_index'] = range(1, len(df_2024_comments) + 1)"
   ]
  },
  {
   "cell_type": "code",
   "execution_count": 23,
   "metadata": {},
   "outputs": [],
   "source": [
    "df_2024_comments.to_csv('Export_csv/YouTube_Exporte/export_comments_2024.csv', encoding='utf-8', quoting=csv.QUOTE_ALL, index=False, columns=['custom_index', 'comment_ID', 'parent_ID', 'video_ID', 'author', 'text', 'like_count', 'published_At'])\n",
    "df_2024_videos.to_csv('Export_csv/YouTube_Exporte/export_videos_2024.csv', encoding='utf-8', quoting=csv.QUOTE_ALL)"
   ]
  }
 ],
 "metadata": {
  "kernelspec": {
   "display_name": ".venv",
   "language": "python",
   "name": "python3"
  },
  "language_info": {
   "codemirror_mode": {
    "name": "ipython",
    "version": 3
   },
   "file_extension": ".py",
   "mimetype": "text/x-python",
   "name": "python",
   "nbconvert_exporter": "python",
   "pygments_lexer": "ipython3",
   "version": "3.13.0"
  }
 },
 "nbformat": 4,
 "nbformat_minor": 2
}
