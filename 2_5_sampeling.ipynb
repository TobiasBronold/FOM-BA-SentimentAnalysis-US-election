{
 "cells": [
  {
   "cell_type": "markdown",
   "metadata": {},
   "source": [
    "# Sampling for labeling\n",
    "\n",
    "Data is drawn at random for labeling. You can select the number of samples yourself. For the bachelor thesis, 750 data sets were used per election cycle, resulting in a data set of 2,250 annotated data sets."
   ]
  },
  {
   "cell_type": "markdown",
   "metadata": {},
   "source": [
    "# Imports"
   ]
  },
  {
   "cell_type": "code",
   "execution_count": 1,
   "metadata": {},
   "outputs": [],
   "source": [
    "import pandas as pd\n",
    "import csv"
   ]
  },
  {
   "cell_type": "code",
   "execution_count": 2,
   "metadata": {},
   "outputs": [],
   "source": [
    "file_2016 = 'Export_csv/YouTube_Exporte/export_comments_2016.csv'\n",
    "file_2020 = 'Export_csv/YouTube_Exporte/export_comments_2020.csv'\n",
    "file_2024 = 'Export_csv/YouTube_Exporte/export_comments_2024.csv'\n",
    "\n",
    "df_comments_2016 = pd.read_csv(\n",
    "    file_2016, \n",
    "    encoding='utf-8', \n",
    "    quoting=csv.QUOTE_ALL,  \n",
    "    sep=',', \n",
    "    quotechar='\"',\n",
    "    engine='python' \n",
    ")\n",
    "\n",
    "df_comments_2020 = pd.read_csv(\n",
    "    file_2020, \n",
    "    encoding='utf-8', \n",
    "    quoting=csv.QUOTE_ALL,  \n",
    "    sep=',',  \n",
    "    quotechar='\"',  \n",
    "    engine='python'\n",
    ")\n",
    "df_comments_2024 = pd.read_csv(\n",
    "    file_2024, \n",
    "    encoding='utf-8', \n",
    "    quoting=csv.QUOTE_ALL,\n",
    "    sep=',',\n",
    "    quotechar='\"',\n",
    "    engine='python'\n",
    ")\n"
   ]
  },
  {
   "cell_type": "markdown",
   "metadata": {},
   "source": [
    "# Sampling\n",
    "Sampling of 750 random data records per election cycle"
   ]
  },
  {
   "cell_type": "code",
   "execution_count": 5,
   "metadata": {},
   "outputs": [
    {
     "name": "stdout",
     "output_type": "stream",
     "text": [
      "Samples successfully saved.\n"
     ]
    }
   ],
   "source": [
    "sample_comments_2016 = df_comments_2016.sample(n=750, random_state=42)\n",
    "sample_comments_2020 = df_comments_2020.sample(n=750, random_state=42)\n",
    "sample_comments_2024 = df_comments_2024.sample(n=750, random_state=42)\n",
    "\n",
    "# Speichern der Samples in CSV-Dateien\n",
    "sample_comments_2016.to_csv('Export_csv/Sampels/sample_comments_2016.csv', encoding='utf-8', quoting=csv.QUOTE_ALL)\n",
    "sample_comments_2020.to_csv('Export_csv/Sampels/sample_comments_2020.csv', encoding='utf-8', quoting=csv.QUOTE_ALL)\n",
    "sample_comments_2024.to_csv('Export_csv/Sampels/sample_comments_2024.csv', encoding='utf-8', quoting=csv.QUOTE_ALL)\n",
    "\n",
    "print('Samples successfully saved.')"
   ]
  }
 ],
 "metadata": {
  "kernelspec": {
   "display_name": ".venv",
   "language": "python",
   "name": "python3"
  },
  "language_info": {
   "codemirror_mode": {
    "name": "ipython",
    "version": 3
   },
   "file_extension": ".py",
   "mimetype": "text/x-python",
   "name": "python",
   "nbconvert_exporter": "python",
   "pygments_lexer": "ipython3",
   "version": "3.13.0"
  }
 },
 "nbformat": 4,
 "nbformat_minor": 2
}
