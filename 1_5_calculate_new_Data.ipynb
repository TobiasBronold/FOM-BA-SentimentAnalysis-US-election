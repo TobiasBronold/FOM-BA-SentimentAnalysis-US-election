{
 "cells": [
  {
   "cell_type": "markdown",
   "metadata": {},
   "source": [
    "# Calculate new Data\n",
    "\n",
    "This code processes YouTube commentary data from various election cycles. First, the relevant CSV files for the years 2016, 2020 and 2024 are read in and saved in DataFrames. The data is then standardized, merged and prepared for further analysis."
   ]
  },
  {
   "cell_type": "markdown",
   "metadata": {},
   "source": [
    "# Imports"
   ]
  },
  {
   "cell_type": "code",
   "execution_count": 1,
   "metadata": {},
   "outputs": [],
   "source": [
    "import pandas as pd\n",
    "import csv"
   ]
  },
  {
   "cell_type": "markdown",
   "metadata": {},
   "source": [
    "# Concat\n",
    "\n",
    "In this section, first the comments and then the videos are imported and merged. The data is also saved as a new csv file."
   ]
  },
  {
   "cell_type": "code",
   "execution_count": 2,
   "metadata": {},
   "outputs": [],
   "source": [
    "# Dateipfade zu den CSV-Dateien\n",
    "file_2016 = 'Export_csv/YouTube_Exporte/export_comments_2016.csv'\n",
    "file_2020 = 'Export_csv/YouTube_Exporte/export_comments_2020.csv'\n",
    "file_2024 = 'Export_csv/YouTube_Exporte/export_comments_2024.csv'\n",
    "\n",
    "# Spaltennamen definieren\n",
    "columns = ['custom_index', 'comment_ID', 'parent_ID', 'video_ID', 'author', 'text', 'like_count', 'published_At']\n",
    "\n",
    "dtype_mapping = {\n",
    "    'like_count': 'Int64',\n",
    "}\n",
    "\n",
    "# CSV-Dateien einlesen und in DataFrames speichern\n",
    "df_2016 = pd.read_csv(file_2016, header=0, encoding='utf-8', names=columns, dtype=dtype_mapping, low_memory=False)\n",
    "df_2020 = pd.read_csv(file_2020, header=0, encoding='utf-8', names=columns, dtype=dtype_mapping, low_memory=False)\n",
    "df_2024 = pd.read_csv(file_2024, header=0, encoding='utf-8', names=columns, dtype=dtype_mapping, low_memory=False)  \n",
    "\n",
    "# DataFrames zusammenführen\n",
    "df_comments = pd.concat([df_2016, df_2020, df_2024], ignore_index=True)"
   ]
  },
  {
   "cell_type": "code",
   "execution_count": 3,
   "metadata": {},
   "outputs": [
    {
     "name": "stdout",
     "output_type": "stream",
     "text": [
      "<class 'pandas.core.frame.DataFrame'>\n",
      "RangeIndex: 2825 entries, 0 to 2824\n",
      "Data columns (total 8 columns):\n",
      " #   Column        Non-Null Count  Dtype \n",
      "---  ------        --------------  ----- \n",
      " 0   custom_index  2825 non-null   int64 \n",
      " 1   comment_ID    2825 non-null   object\n",
      " 2   parent_ID     425 non-null    object\n",
      " 3   video_ID      2825 non-null   object\n",
      " 4   author        2825 non-null   object\n",
      " 5   text          2825 non-null   object\n",
      " 6   like_count    2825 non-null   Int64 \n",
      " 7   published_At  2825 non-null   object\n",
      "dtypes: Int64(1), int64(1), object(6)\n",
      "memory usage: 179.5+ KB\n",
      "<class 'pandas.core.frame.DataFrame'>\n",
      "RangeIndex: 53648 entries, 0 to 53647\n",
      "Data columns (total 8 columns):\n",
      " #   Column        Non-Null Count  Dtype \n",
      "---  ------        --------------  ----- \n",
      " 0   custom_index  53648 non-null  int64 \n",
      " 1   comment_ID    53648 non-null  object\n",
      " 2   parent_ID     12082 non-null  object\n",
      " 3   video_ID      53648 non-null  object\n",
      " 4   author        53582 non-null  object\n",
      " 5   text          53648 non-null  object\n",
      " 6   like_count    53648 non-null  Int64 \n",
      " 7   published_At  53648 non-null  object\n",
      "dtypes: Int64(1), int64(1), object(6)\n",
      "memory usage: 3.3+ MB\n",
      "<class 'pandas.core.frame.DataFrame'>\n",
      "RangeIndex: 5657 entries, 0 to 5656\n",
      "Data columns (total 8 columns):\n",
      " #   Column        Non-Null Count  Dtype \n",
      "---  ------        --------------  ----- \n",
      " 0   custom_index  5657 non-null   int64 \n",
      " 1   comment_ID    5657 non-null   object\n",
      " 2   parent_ID     1573 non-null   object\n",
      " 3   video_ID      5657 non-null   object\n",
      " 4   author        5645 non-null   object\n",
      " 5   text          5657 non-null   object\n",
      " 6   like_count    5657 non-null   Int64 \n",
      " 7   published_At  5657 non-null   object\n",
      "dtypes: Int64(1), int64(1), object(6)\n",
      "memory usage: 359.2+ KB\n",
      "<class 'pandas.core.frame.DataFrame'>\n",
      "RangeIndex: 62130 entries, 0 to 62129\n",
      "Data columns (total 8 columns):\n",
      " #   Column        Non-Null Count  Dtype \n",
      "---  ------        --------------  ----- \n",
      " 0   custom_index  62130 non-null  int64 \n",
      " 1   comment_ID    62130 non-null  object\n",
      " 2   parent_ID     14080 non-null  object\n",
      " 3   video_ID      62130 non-null  object\n",
      " 4   author        62052 non-null  object\n",
      " 5   text          62130 non-null  object\n",
      " 6   like_count    62130 non-null  Int64 \n",
      " 7   published_At  62130 non-null  object\n",
      "dtypes: Int64(1), int64(1), object(6)\n",
      "memory usage: 3.9+ MB\n"
     ]
    }
   ],
   "source": [
    "df_2016.info()\n",
    "df_2020.info()\n",
    "df_2024.info()\n",
    "df_comments.info()"
   ]
  },
  {
   "cell_type": "code",
   "execution_count": 4,
   "metadata": {},
   "outputs": [
    {
     "data": {
      "text/plain": [
       "Index(['custom_index', 'comment_ID', 'parent_ID', 'video_ID', 'author', 'text',\n",
       "       'like_count', 'published_At'],\n",
       "      dtype='object')"
      ]
     },
     "execution_count": 4,
     "metadata": {},
     "output_type": "execute_result"
    }
   ],
   "source": [
    "df_comments.columns"
   ]
  },
  {
   "cell_type": "code",
   "execution_count": 5,
   "metadata": {},
   "outputs": [],
   "source": [
    "df_comments.to_csv('Export_csv/YouTube_Exporte/export_comments_all.csv', encoding='utf-8', quoting=csv.QUOTE_ALL)"
   ]
  },
  {
   "cell_type": "markdown",
   "metadata": {},
   "source": [
    "### Videos"
   ]
  },
  {
   "cell_type": "code",
   "execution_count": 6,
   "metadata": {},
   "outputs": [],
   "source": [
    "# Dateipfade zu den CSV-Dateien\n",
    "file_2016_videos = 'Export_csv/YouTube_Exporte/export_videos_2016.csv'\n",
    "file_2020_videos = 'Export_csv/YouTube_Exporte/export_videos_2020.csv'\n",
    "file_2024_videos = 'Export_csv/YouTube_Exporte/export_videos_2024.csv'\n",
    "\n",
    "# Spaltennamen definieren\n",
    "columns = ['custom_index', 'video_Name','video_ID','publisher','view_Count','comment_Count','published_at']\n",
    "\n",
    "# CSV-Dateien einlesen und in DataFrames speichern\n",
    "df_videos_2016 = pd.read_csv(file_2016_videos, header=0, encoding='utf-8',names=columns)\n",
    "df_videos_2020 = pd.read_csv(file_2020_videos, header=0, encoding='utf-8',names=columns)\n",
    "df_videos_2024 = pd.read_csv(file_2024_videos, header=0, encoding='utf-8',names=columns)  \n",
    "\n",
    "# DataFrames zusammenführen\n",
    "df_videos = pd.concat([df_videos_2016, df_videos_2020, df_videos_2024], ignore_index=True)"
   ]
  },
  {
   "cell_type": "code",
   "execution_count": 7,
   "metadata": {},
   "outputs": [
    {
     "data": {
      "text/plain": [
       "Index(['custom_index', 'video_Name', 'video_ID', 'publisher', 'view_Count',\n",
       "       'comment_Count', 'published_at'],\n",
       "      dtype='object')"
      ]
     },
     "execution_count": 7,
     "metadata": {},
     "output_type": "execute_result"
    }
   ],
   "source": [
    "df_videos.columns"
   ]
  },
  {
   "cell_type": "code",
   "execution_count": 8,
   "metadata": {},
   "outputs": [],
   "source": [
    "df_comments.to_csv('Export_csv/YouTube_Exporte/export_videos_all.csv', encoding='utf-8', quoting=csv.QUOTE_ALL)"
   ]
  },
  {
   "cell_type": "markdown",
   "metadata": {},
   "source": [
    "# Calculate new data\n",
    "In this section, new columns are calculated for both df (e.g. election cycle or year of release of the video) and then saved as a new csv."
   ]
  },
  {
   "cell_type": "code",
   "execution_count": 9,
   "metadata": {},
   "outputs": [
    {
     "name": "stdout",
     "output_type": "stream",
     "text": [
      "Columns of df_comments: Index(['custom_index', 'comment_ID', 'parent_ID', 'video_ID', 'author', 'text',\n",
      "       'like_count', 'published_At'],\n",
      "      dtype='object')\n",
      "Columns of df_videos: Index(['custom_index', 'video_Name', 'video_ID', 'publisher', 'view_Count',\n",
      "       'comment_Count', 'published_at'],\n",
      "      dtype='object')\n"
     ]
    }
   ],
   "source": [
    "# Überprüfe die Spaltennamen beider DataFrames\n",
    "print('Columns of df_comments:', df_comments.columns)\n",
    "print('Columns of df_videos:', df_videos.columns)"
   ]
  },
  {
   "cell_type": "code",
   "execution_count": 10,
   "metadata": {},
   "outputs": [],
   "source": [
    "df_comments['published_At'] = pd.to_datetime(df_comments['published_At'])\n",
    "df_comments['year'] = df_comments['published_At'].dt.year\n",
    "df_comments['comment_length'] = df_comments['text'].apply(lambda x: len(x) if isinstance(x, str) else 0)"
   ]
  },
  {
   "cell_type": "code",
   "execution_count": 11,
   "metadata": {},
   "outputs": [
    {
     "name": "stdout",
     "output_type": "stream",
     "text": [
      "   custom_index                  comment_ID parent_ID     video_ID  \\\n",
      "0             1  Ugze0aXA6zTFey241M94AaABAg       NaN  SHG0ezLiVGc   \n",
      "1             2  Ugwa-qc1G5P9VZEjHuF4AaABAg       NaN  SHG0ezLiVGc   \n",
      "2             3  UgxOS3FTiYFkiS9bGf14AaABAg       NaN  SHG0ezLiVGc   \n",
      "3             4  UgyQQqHl9-Y13pPiml54AaABAg       NaN  SHG0ezLiVGc   \n",
      "4             5  UgwBHGY9omjjiF2f1Gh4AaABAg       NaN  SHG0ezLiVGc   \n",
      "\n",
      "                   author                                               text  \\\n",
      "0         @dennistims2604                           2025 and still laughing.   \n",
      "1            @klvd43rs565  DECADES AGO-  Saturday night live used to be e...   \n",
      "2                @jyy9624                   NY by way of 2nd city and Canada   \n",
      "3  @justjakewolverine4619  &quot;RACIST&quot; from Kentucky here in &#39;...   \n",
      "4             @Tonesnob72  Good to know if you don’t vote the way dems wa...   \n",
      "\n",
      "   like_count              published_At  year  comment_length  video_year  \n",
      "0           0 2025-08-04 01:53:48+00:00  2025              24        2016  \n",
      "1           0 2025-08-04 00:27:09+00:00  2025             102        2016  \n",
      "2           0 2025-08-03 11:17:52+00:00  2025              32        2016  \n",
      "3           0 2025-08-03 08:11:23+00:00  2025             174        2016  \n",
      "4           0 2025-08-02 23:38:18+00:00  2025             155        2016  \n"
     ]
    }
   ],
   "source": [
    "# Video Jahr zu Comments hinzufügen \n",
    "df_comments['video_ID'] = df_comments['video_ID'].astype(str)\n",
    "df_videos['video_ID'] = df_videos['video_ID'].astype(str)\n",
    "df_videos['video_year'] = pd.to_datetime(df_videos['published_at']).dt.year\n",
    "\n",
    "# Merge auf Basis der video_ID für die Spalte video_year\n",
    "df_comments = pd.merge(df_comments, df_videos[['video_ID', 'video_year']], on='video_ID', how='left')\n",
    "\n",
    "print(df_comments.head())"
   ]
  },
  {
   "cell_type": "code",
   "execution_count": 12,
   "metadata": {},
   "outputs": [
    {
     "name": "stdout",
     "output_type": "stream",
     "text": [
      "      video_ID  video_year  election_cycle\n",
      "0  SHG0ezLiVGc        2016            2016\n",
      "1  Wsije1KetVw        2020            2020\n",
      "2  g34CFjEFZts        2024            2024\n"
     ]
    }
   ],
   "source": [
    "# Election Cycle berechnen\n",
    "df_videos['published_at'] = pd.to_datetime(df_videos['published_at'])\n",
    "df_videos['comments_per_view'] = df_videos['comment_Count'] / df_videos['view_Count']\n",
    "\n",
    "# Funktion, um den Wahlzyklus basierend auf dem Jahr zu bestimmen\n",
    "def determine_election_cycle(year):\n",
    "    if 2014 <= year <= 2018:\n",
    "        return 2016\n",
    "    elif 2019 <= year <= 2022:\n",
    "        return 2020\n",
    "    elif year >= 2023:\n",
    "        return 2024\n",
    "\n",
    "# Wende die Funktion auf die 'video_year' Spalte an und erstelle die neue Spalte 'election_cycle'\n",
    "df_videos['election_cycle'] = df_videos['video_year'].apply(determine_election_cycle)\n",
    "\n",
    "# Ausgabe der ersten paar Zeilen zur Überprüfung\n",
    "print(df_videos[['video_ID', 'video_year', 'election_cycle']].head())"
   ]
  },
  {
   "cell_type": "code",
   "execution_count": 13,
   "metadata": {},
   "outputs": [
    {
     "name": "stdout",
     "output_type": "stream",
     "text": [
      "   custom_index                  comment_ID parent_ID     video_ID  \\\n",
      "0             1  Ugze0aXA6zTFey241M94AaABAg       NaN  SHG0ezLiVGc   \n",
      "1             2  Ugwa-qc1G5P9VZEjHuF4AaABAg       NaN  SHG0ezLiVGc   \n",
      "2             3  UgxOS3FTiYFkiS9bGf14AaABAg       NaN  SHG0ezLiVGc   \n",
      "3             4  UgyQQqHl9-Y13pPiml54AaABAg       NaN  SHG0ezLiVGc   \n",
      "4             5  UgwBHGY9omjjiF2f1Gh4AaABAg       NaN  SHG0ezLiVGc   \n",
      "\n",
      "                   author                                               text  \\\n",
      "0         @dennistims2604                           2025 and still laughing.   \n",
      "1            @klvd43rs565  DECADES AGO-  Saturday night live used to be e...   \n",
      "2                @jyy9624                   NY by way of 2nd city and Canada   \n",
      "3  @justjakewolverine4619  &quot;RACIST&quot; from Kentucky here in &#39;...   \n",
      "4             @Tonesnob72  Good to know if you don’t vote the way dems wa...   \n",
      "\n",
      "   like_count              published_At  year  comment_length  video_year  \\\n",
      "0           0 2025-08-04 01:53:48+00:00  2025              24        2016   \n",
      "1           0 2025-08-04 00:27:09+00:00  2025             102        2016   \n",
      "2           0 2025-08-03 11:17:52+00:00  2025              32        2016   \n",
      "3           0 2025-08-03 08:11:23+00:00  2025             174        2016   \n",
      "4           0 2025-08-02 23:38:18+00:00  2025             155        2016   \n",
      "\n",
      "   election_cycle  \n",
      "0            2016  \n",
      "1            2016  \n",
      "2            2016  \n",
      "3            2016  \n",
      "4            2016  \n"
     ]
    }
   ],
   "source": [
    "# Election Cycle zu commets hinzufügen\n",
    "df_comments = pd.merge(df_comments, df_videos[['video_ID', 'election_cycle']], on='video_ID', how='left')\n",
    "\n",
    "print(df_comments.head())"
   ]
  },
  {
   "cell_type": "code",
   "execution_count": 14,
   "metadata": {},
   "outputs": [
    {
     "name": "stdout",
     "output_type": "stream",
     "text": [
      "CSV files have been successfully saved.\n"
     ]
    }
   ],
   "source": [
    "df_videos.to_csv('Export_csv/videos_v1.csv',  encoding='utf-8', quoting=csv.QUOTE_ALL)\n",
    "df_comments.to_csv('Export_csv/comments_v1.csv',  encoding='utf-8', quoting=csv.QUOTE_ALL)\n",
    "\n",
    "print('CSV files have been successfully saved.')"
   ]
  }
 ],
 "metadata": {
  "kernelspec": {
   "display_name": ".venv",
   "language": "python",
   "name": "python3"
  },
  "language_info": {
   "codemirror_mode": {
    "name": "ipython",
    "version": 3
   },
   "file_extension": ".py",
   "mimetype": "text/x-python",
   "name": "python",
   "nbconvert_exporter": "python",
   "pygments_lexer": "ipython3",
   "version": "3.13.0"
  }
 },
 "nbformat": 4,
 "nbformat_minor": 2
}
